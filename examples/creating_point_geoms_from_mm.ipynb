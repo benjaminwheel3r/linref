{
 "cells": [
  {
   "cell_type": "markdown",
   "id": "cecaac91-c136-4042-a519-004e792ba3e9",
   "metadata": {},
   "source": [
    "# Generating point geometries from a table of point-events with known Route IDs and mile markers\n",
    "\n",
    "Suppose we have a table of point events with Route ID and mile marker information about where each event happened, but with no associated geometries. \n",
    "Suppose further that we also have the linework of the reference routes. \n",
    "\n",
    "We can use `linref` to generate geometries for each of the rows of the point data. The example below shows the step-by-step process."
   ]
  },
  {
   "cell_type": "code",
   "execution_count": 7,
   "id": "7c4eb0d7-a00c-44fb-9b89-73652a1d6327",
   "metadata": {},
   "outputs": [],
   "source": [
    "# Importing relevant libraries\n",
    "from shapely.geometry import LineString\n",
    "import pandas as pd\n",
    "import geopandas as gpd\n",
    "import linref as lr"
   ]
  },
  {
   "cell_type": "markdown",
   "id": "0f552310-3fb3-481d-8901-61cd4e82ff89",
   "metadata": {},
   "source": [
    "First, let's create the sample DataFrames and GeoDataFrames we'll be using throughout this example."
   ]
  },
  {
   "cell_type": "code",
   "execution_count": 8,
   "id": "2067add6-53de-4d7f-aab9-846a50b44926",
   "metadata": {},
   "outputs": [],
   "source": [
    "# `point_df` is the DataFrame containing the points with Route ID and mile marker info but without any\n",
    "# actual geometries \n",
    "point_df = pd.DataFrame({'Point_ID':[1,2,3,4],\n",
    "                         'Route_ID':['A','A','B','B'],\n",
    "                         'BEG':[1,2,2,3]})\n",
    "\n",
    "# `ref_gdf` is the GeoDataFrame that contains the reference linework of the roadway network\n",
    "ref_gdf = gpd.GeoDataFrame({'Route_ID':['A','B'],\n",
    "                            'BEG':[0,0],\n",
    "                            'END':[5,5],\n",
    "                            'geometry':[LineString(((0,0),(5,0))),\n",
    "                                        LineString(((0,2),(5,2)))]})"
   ]
  },
  {
   "cell_type": "markdown",
   "id": "4ec5b870-b919-40f2-a296-c876a763ed98",
   "metadata": {},
   "source": [
    "The first processing step is to create `EventCollection` objects for both sets:"
   ]
  },
  {
   "cell_type": "code",
   "execution_count": 9,
   "id": "4151acae-13b6-41ce-9d00-029766c45276",
   "metadata": {},
   "outputs": [],
   "source": [
    "# For the reference object, notice how we specify the `beg` and `end` parameters because we are dealing with a link-based object.\n",
    "# The idea here is that the `beg` and `end` columns indicate which columns contain the start and end mile marker information for \n",
    "# each link. \n",
    "ref_ec = lr.EventsCollection(ref_gdf,\n",
    "                             keys=['Route_ID'],\n",
    "                             beg='BEG',\n",
    "                             end='END',\n",
    "                             geom='geometry')\n",
    "\n",
    "# For the point object, notice how we only specify the `beg` (an not the `end`) parameter. this is because we are dealing with a \n",
    "# line-based object, which only has a start mile marker.  \n",
    "point_ec = lr.EventsCollection(point_df, \n",
    "                               keys=['Route_ID'],\n",
    "                               beg='BEG')"
   ]
  },
  {
   "cell_type": "markdown",
   "id": "59c9f888-e73d-4a1c-9235-38d8e423c9b9",
   "metadata": {},
   "source": [
    "We then need to build the routes for the reference `EventsCollection` object.\n",
    "This step directs the `linref` library to perform some internal processing steps that are required for GIS-based operations."
   ]
  },
  {
   "cell_type": "code",
   "execution_count": 10,
   "id": "3cd299b7-e762-4d5d-a9f1-a095fb0e790b",
   "metadata": {},
   "outputs": [],
   "source": [
    "ref_ec.build_routes()"
   ]
  },
  {
   "cell_type": "markdown",
   "id": "16b25371-447b-4019-aaba-fee9d57ddf45",
   "metadata": {},
   "source": [
    "Then, we can create the new geometries by merging the `point_ec` with the `ref_ec` and applying the `interpolate()` method. \n",
    "This will generate a numpy array of `Point` geometries, which can easily be added to your DataFrame. "
   ]
  },
  {
   "cell_type": "code",
   "execution_count": 11,
   "id": "b709333b-6f87-4df4-8dee-82661ec4b95e",
   "metadata": {},
   "outputs": [
    {
     "name": "stdout",
     "output_type": "stream",
     "text": [
      "0    POINT (1 0)\n",
      "1    POINT (2 0)\n",
      "2    POINT (2 2)\n",
      "3    POINT (3 2)\n",
      "Name: route, dtype: object\n"
     ]
    }
   ],
   "source": [
    "em = point_ec.merge(ref_ec)\n",
    "new_geoms = em.interpolate()\n",
    "print(new_geoms)"
   ]
  },
  {
   "cell_type": "markdown",
   "id": "5cc64d52-6ab5-4f22-835a-c0f3fd811c0a",
   "metadata": {},
   "source": [
    "Finally, if you want to want to create a full-fledged GeoDataFrame, you can just make a copy of your original input DataFrame and add the new array of points as the geometry column."
   ]
  },
  {
   "cell_type": "code",
   "execution_count": 14,
   "id": "073e2a67-b1db-4eb4-9023-e962523ee911",
   "metadata": {},
   "outputs": [
    {
     "name": "stdout",
     "output_type": "stream",
     "text": [
      "   Point_ID Route_ID  BEG                 geometry\n",
      "0         1        A    1  POINT (1.00000 0.00000)\n",
      "1         2        A    2  POINT (2.00000 0.00000)\n",
      "2         3        B    2  POINT (2.00000 2.00000)\n",
      "3         4        B    3  POINT (3.00000 2.00000)\n"
     ]
    }
   ],
   "source": [
    "point_gdf = point_df.copy()\n",
    "point_gdf['geometry'] = new_geoms\n",
    "\n",
    "point_gdf = gpd.GeoDataFrame(point_gdf, \n",
    "                             geometry='geometry')\n",
    "\n",
    "print(point_gdf)"
   ]
  }
 ],
 "metadata": {
  "kernelspec": {
   "display_name": "Python 3 (ipykernel)",
   "language": "python",
   "name": "python3"
  },
  "language_info": {
   "codemirror_mode": {
    "name": "ipython",
    "version": 3
   },
   "file_extension": ".py",
   "mimetype": "text/x-python",
   "name": "python",
   "nbconvert_exporter": "python",
   "pygments_lexer": "ipython3",
   "version": "3.11.7"
  }
 },
 "nbformat": 4,
 "nbformat_minor": 5
}
